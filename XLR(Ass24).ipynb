{
 "cells": [
  {
   "cell_type": "code",
   "execution_count": 1,
   "id": "b54d37b0-660a-4f54-adb8-e7059d8f2f34",
   "metadata": {},
   "outputs": [
    {
     "name": "stdout",
     "output_type": "stream",
     "text": [
      "Simple Linear Regression R-squared: 0.9154\n",
      "Multiple Linear Regression R-squared: 0.9998\n",
      "Adjusted R-squared for Multiple Regression: 0.9998\n",
      "\n",
      "Variance Inflation Factor (VIF) values:\n",
      "                  Feature        VIF\n",
      "0                   const  36.217244\n",
      "1         Building_Height   1.047164\n",
      "2  Material_Quality_Index   1.048067\n",
      "3              Labor_Cost   1.054086\n",
      "4       Concrete_Strength   1.019701\n",
      "5        Foundation_Depth   1.040594\n"
     ]
    }
   ],
   "source": [
    "import pandas as pd\n",
    "import numpy as np\n",
    "from sklearn.linear_model import LinearRegression\n",
    "from sklearn.metrics import r2_score\n",
    "from statsmodels.stats.outliers_influence import variance_inflation_factor\n",
    "import statsmodels.api as sm\n",
    "\n",
    "df = pd.read_csv(\"Civil_Engineering_Regression_Dataset.csv\")\n",
    "\n",
    "# Simple Linear Regression\n",
    "X_simple = df[['Building_Height']]\n",
    "y = df['Construction_Cost']\n",
    "\n",
    "model_simple = LinearRegression()\n",
    "model_simple.fit(X_simple, y)\n",
    "r2_simple = r2_score(y, model_simple.predict(X_simple))\n",
    "\n",
    "# Multiple Linear Regression\n",
    "X_multiple = df[['Building_Height', 'Material_Quality_Index', 'Labor_Cost', 'Concrete_Strength', 'Foundation_Depth']]\n",
    "model_multiple = LinearRegression()\n",
    "model_multiple.fit(X_multiple, y)\n",
    "r2_multiple = r2_score(y, model_multiple.predict(X_multiple))\n",
    "\n",
    "n = len(df)  \n",
    "p = X_multiple.shape[1]  \n",
    "adjusted_r2 = 1 - ((1 - r2_multiple) * (n - 1) / (n - p - 1))\n",
    "\n",
    "X_with_const = sm.add_constant(X_multiple)\n",
    "vif_data = pd.DataFrame()\n",
    "vif_data[\"Feature\"] = X_with_const.columns\n",
    "vif_data[\"VIF\"] = [variance_inflation_factor(X_with_const.values, i) for i in range(X_with_const.shape[1])]\n",
    "\n",
    "print(f\"Simple Linear Regression R-squared: {r2_simple:.4f}\")\n",
    "print(f\"Multiple Linear Regression R-squared: {r2_multiple:.4f}\")\n",
    "print(f\"Adjusted R-squared for Multiple Regression: {adjusted_r2:.4f}\")\n",
    "print(\"\\nVariance Inflation Factor (VIF) values:\")\n",
    "print(vif_data)\n"
   ]
  },
  {
   "cell_type": "code",
   "execution_count": null,
   "id": "2ee3634f-809d-41fe-9376-c8417050f934",
   "metadata": {},
   "outputs": [],
   "source": []
  }
 ],
 "metadata": {
  "kernelspec": {
   "display_name": "Python 3 (ipykernel)",
   "language": "python",
   "name": "python3"
  },
  "language_info": {
   "codemirror_mode": {
    "name": "ipython",
    "version": 3
   },
   "file_extension": ".py",
   "mimetype": "text/x-python",
   "name": "python",
   "nbconvert_exporter": "python",
   "pygments_lexer": "ipython3",
   "version": "3.12.7"
  }
 },
 "nbformat": 4,
 "nbformat_minor": 5
}
