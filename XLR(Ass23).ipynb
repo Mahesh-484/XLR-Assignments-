{
 "cells": [
  {
   "cell_type": "code",
   "execution_count": 1,
   "id": "f21a11d5-afdc-4c48-be18-809430580a36",
   "metadata": {},
   "outputs": [
    {
     "name": "stdout",
     "output_type": "stream",
     "text": [
      "Regression Equation: Construction Cost = -15.28 + (49.89 * Building_Height) + (10.66 * Material_Quality_Index) + (0.52 * Labor_Cost) + (20.31 * Concrete_Strength) + (30.00 * Foundation_Depth) \n",
      "Variable with highest impact: Building_Height (49.89)\n"
     ]
    }
   ],
   "source": [
    "import pandas as pd\n",
    "import numpy as np\n",
    "from sklearn.linear_model import LinearRegression\n",
    "\n",
    "df = pd.read_csv(\"Civil_Engineering_Regression_Dataset.csv\")\n",
    "\n",
    "X = df[['Building_Height', 'Material_Quality_Index', 'Labor_Cost', 'Concrete_Strength', 'Foundation_Depth']]\n",
    "y = df['Construction_Cost']\n",
    "\n",
    "model = LinearRegression()\n",
    "model.fit(X, y)\n",
    "\n",
    "intercept = model.intercept_\n",
    "coefficients = model.coef_\n",
    "\n",
    "print(f\"Regression Equation: Construction Cost = {intercept:.2f} \", end=\"\")\n",
    "for feature, coef in zip(X.columns, coefficients):\n",
    "    print(f\"+ ({coef:.2f} * {feature}) \", end=\"\")\n",
    "print()\n",
    "\n",
    "max_impact_var = X.columns[np.argmax(np.abs(coefficients))]\n",
    "print(f\"Variable with highest impact: {max_impact_var} ({max(coefficients, key=abs):.2f})\")\n"
   ]
  },
  {
   "cell_type": "code",
   "execution_count": null,
   "id": "9df8abdf-5380-4a70-ad6d-207b114d7d87",
   "metadata": {},
   "outputs": [],
   "source": []
  }
 ],
 "metadata": {
  "kernelspec": {
   "display_name": "Python 3 (ipykernel)",
   "language": "python",
   "name": "python3"
  },
  "language_info": {
   "codemirror_mode": {
    "name": "ipython",
    "version": 3
   },
   "file_extension": ".py",
   "mimetype": "text/x-python",
   "name": "python",
   "nbconvert_exporter": "python",
   "pygments_lexer": "ipython3",
   "version": "3.12.7"
  }
 },
 "nbformat": 4,
 "nbformat_minor": 5
}
